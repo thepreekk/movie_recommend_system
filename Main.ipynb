{
 "cells": [
  {
   "cell_type": "code",
   "execution_count": 86,
   "metadata": {
    "collapsed": true,
    "ExecuteTime": {
     "end_time": "2023-05-11T12:36:40.750391Z",
     "start_time": "2023-05-11T12:36:40.746622Z"
    }
   },
   "outputs": [],
   "source": [
    "import pandas as pd"
   ]
  },
  {
   "cell_type": "code",
   "execution_count": 87,
   "outputs": [],
   "source": [
    "movies = pd.read_csv(\"data.csv\")"
   ],
   "metadata": {
    "collapsed": false,
    "ExecuteTime": {
     "end_time": "2023-05-11T12:36:42.714065Z",
     "start_time": "2023-05-11T12:36:42.686797Z"
    }
   }
  },
  {
   "cell_type": "code",
   "execution_count": 88,
   "outputs": [
    {
     "data": {
      "text/plain": "            movie_id\ncount    1494.000000\nmean    65503.379518\nstd     89811.925093\nmin        11.000000\n25%      8102.750000\n50%     26354.000000\n75%     76340.250000\nmax    426469.000000",
      "text/html": "<div>\n<style scoped>\n    .dataframe tbody tr th:only-of-type {\n        vertical-align: middle;\n    }\n\n    .dataframe tbody tr th {\n        vertical-align: top;\n    }\n\n    .dataframe thead th {\n        text-align: right;\n    }\n</style>\n<table border=\"1\" class=\"dataframe\">\n  <thead>\n    <tr style=\"text-align: right;\">\n      <th></th>\n      <th>movie_id</th>\n    </tr>\n  </thead>\n  <tbody>\n    <tr>\n      <th>count</th>\n      <td>1494.000000</td>\n    </tr>\n    <tr>\n      <th>mean</th>\n      <td>65503.379518</td>\n    </tr>\n    <tr>\n      <th>std</th>\n      <td>89811.925093</td>\n    </tr>\n    <tr>\n      <th>min</th>\n      <td>11.000000</td>\n    </tr>\n    <tr>\n      <th>25%</th>\n      <td>8102.750000</td>\n    </tr>\n    <tr>\n      <th>50%</th>\n      <td>26354.000000</td>\n    </tr>\n    <tr>\n      <th>75%</th>\n      <td>76340.250000</td>\n    </tr>\n    <tr>\n      <th>max</th>\n      <td>426469.000000</td>\n    </tr>\n  </tbody>\n</table>\n</div>"
     },
     "execution_count": 88,
     "metadata": {},
     "output_type": "execute_result"
    }
   ],
   "source": [
    "movies.describe()"
   ],
   "metadata": {
    "collapsed": false,
    "ExecuteTime": {
     "end_time": "2023-05-11T12:36:44.597530Z",
     "start_time": "2023-05-11T12:36:44.574380Z"
    }
   }
  },
  {
   "cell_type": "code",
   "execution_count": 89,
   "outputs": [
    {
     "name": "stdout",
     "output_type": "stream",
     "text": [
      "<class 'pandas.core.frame.DataFrame'>\n",
      "RangeIndex: 1494 entries, 0 to 1493\n",
      "Data columns (total 3 columns):\n",
      " #   Column    Non-Null Count  Dtype \n",
      "---  ------    --------------  ----- \n",
      " 0   title     1494 non-null   object\n",
      " 1   movie_id  1494 non-null   int64 \n",
      " 2   tags      1494 non-null   object\n",
      "dtypes: int64(1), object(2)\n",
      "memory usage: 35.1+ KB\n"
     ]
    }
   ],
   "source": [
    "movies.info()"
   ],
   "metadata": {
    "collapsed": false,
    "ExecuteTime": {
     "end_time": "2023-05-11T12:36:49.125517Z",
     "start_time": "2023-05-11T12:36:49.103056Z"
    }
   }
  },
  {
   "cell_type": "code",
   "execution_count": 90,
   "outputs": [],
   "source": [
    "from sklearn.feature_extraction.text import CountVectorizer\n",
    "cv = CountVectorizer(max_features=6000, stop_words='english')"
   ],
   "metadata": {
    "collapsed": false,
    "ExecuteTime": {
     "end_time": "2023-05-11T12:38:39.319575Z",
     "start_time": "2023-05-11T12:38:39.316601Z"
    }
   }
  },
  {
   "cell_type": "code",
   "execution_count": 91,
   "outputs": [],
   "source": [
    "vector = cv.fit_transform(movies['tags'].values.astype('U')).toarray()"
   ],
   "metadata": {
    "collapsed": false,
    "ExecuteTime": {
     "end_time": "2023-05-11T12:39:02.644509Z",
     "start_time": "2023-05-11T12:39:02.546251Z"
    }
   }
  },
  {
   "cell_type": "code",
   "execution_count": 92,
   "outputs": [
    {
     "data": {
      "text/plain": "(1494, 6000)"
     },
     "execution_count": 92,
     "metadata": {},
     "output_type": "execute_result"
    }
   ],
   "source": [
    "vector.shape"
   ],
   "metadata": {
    "collapsed": false,
    "ExecuteTime": {
     "end_time": "2023-05-11T12:39:04.644515Z",
     "start_time": "2023-05-11T12:39:04.636653Z"
    }
   }
  },
  {
   "cell_type": "code",
   "execution_count": 93,
   "outputs": [
    {
     "data": {
      "text/plain": "array([[1.        , 0.07938842, 0.05292561, ..., 0.        , 0.05143445,\n        0.02380952],\n       [0.07938842, 1.        , 0.05882353, ..., 0.04428074, 0.        ,\n        0.        ],\n       [0.05292561, 0.05882353, 1.        , ..., 0.        , 0.        ,\n        0.        ],\n       ...,\n       [0.        , 0.04428074, 0.        , ..., 1.        , 0.        ,\n        0.03984095],\n       [0.05143445, 0.        , 0.        , ..., 0.        , 1.        ,\n        0.        ],\n       [0.02380952, 0.        , 0.        , ..., 0.03984095, 0.        ,\n        1.        ]])"
     },
     "execution_count": 93,
     "metadata": {},
     "output_type": "execute_result"
    }
   ],
   "source": [
    "from sklearn.metrics.pairwise import cosine_similarity\n",
    "similarity = cosine_similarity(vector)\n",
    "similarity"
   ],
   "metadata": {
    "collapsed": false,
    "ExecuteTime": {
     "end_time": "2023-05-11T12:39:23.876669Z",
     "start_time": "2023-05-11T12:39:23.626104Z"
    }
   }
  },
  {
   "cell_type": "code",
   "execution_count": 94,
   "outputs": [
    {
     "data": {
      "text/plain": "0"
     },
     "execution_count": 94,
     "metadata": {},
     "output_type": "execute_result"
    }
   ],
   "source": [
    "movies[movies['title']==\"Avatar\"].index[0]"
   ],
   "metadata": {
    "collapsed": false,
    "ExecuteTime": {
     "end_time": "2023-05-11T12:39:42.795326Z",
     "start_time": "2023-05-11T12:39:42.791470Z"
    }
   }
  },
  {
   "cell_type": "code",
   "execution_count": 96,
   "outputs": [
    {
     "name": "stdout",
     "output_type": "stream",
     "text": [
      "Spectre\n",
      "Never Say Never Again\n",
      "Quantum of Solace\n",
      "Skyfall\n",
      "From Russia with Love\n"
     ]
    }
   ],
   "source": [
    "distance = sorted(list(enumerate(similarity[2])), reverse=True, key=lambda vector:vector[1])\n",
    "for i in distance[0:5]:\n",
    "    print(movies.iloc[i[0]].title)"
   ],
   "metadata": {
    "collapsed": false,
    "ExecuteTime": {
     "end_time": "2023-05-11T12:40:36.690555Z",
     "start_time": "2023-05-11T12:40:36.683767Z"
    }
   }
  },
  {
   "cell_type": "code",
   "execution_count": 99,
   "outputs": [],
   "source": [
    "def genres_recommend(movie):\n",
    "    index=movies[movies['title']==movie].index[0]\n",
    "    distance = sorted(list(enumerate(similarity[index])), reverse=True, key=lambda vector:vector[1])\n",
    "    for i in distance[0:10]:\n",
    "        print(movies.iloc[i[0]].title)"
   ],
   "metadata": {
    "collapsed": false,
    "ExecuteTime": {
     "end_time": "2023-05-11T12:41:02.130809Z",
     "start_time": "2023-05-11T12:41:02.122771Z"
    }
   }
  },
  {
   "cell_type": "code",
   "execution_count": 106,
   "outputs": [
    {
     "name": "stdout",
     "output_type": "stream",
     "text": [
      "Batman Begins\n",
      "The Dark Knight\n",
      "The Dark Knight Rises\n",
      "Batman v Superman: Dawn of Justice\n",
      "Teenage Mutant Ninja Turtles\n",
      "The Taking of Pelham 1 2 3\n",
      "Hobo with a Shotgun\n",
      "The Punisher\n",
      "The Yards\n",
      "The Godfather\n"
     ]
    }
   ],
   "source": [
    "genres_recommend('Batman Begins')"
   ],
   "metadata": {
    "collapsed": false,
    "ExecuteTime": {
     "end_time": "2023-05-11T12:47:25.270040Z",
     "start_time": "2023-05-11T12:47:25.266321Z"
    }
   }
  },
  {
   "cell_type": "code",
   "execution_count": 101,
   "outputs": [],
   "source": [
    "import pickle"
   ],
   "metadata": {
    "collapsed": false,
    "ExecuteTime": {
     "end_time": "2023-05-11T12:41:48.902518Z",
     "start_time": "2023-05-11T12:41:48.895997Z"
    }
   }
  },
  {
   "cell_type": "code",
   "execution_count": 102,
   "outputs": [],
   "source": [
    "pickle.dump(movies,open('movie_list.pkl','wb'))"
   ],
   "metadata": {
    "collapsed": false,
    "ExecuteTime": {
     "end_time": "2023-05-11T12:41:57.749910Z",
     "start_time": "2023-05-11T12:41:57.742349Z"
    }
   }
  },
  {
   "cell_type": "code",
   "execution_count": 103,
   "outputs": [],
   "source": [
    "pickle.dump(similarity,open('similarity.pkl','wb'))"
   ],
   "metadata": {
    "collapsed": false,
    "ExecuteTime": {
     "end_time": "2023-05-11T12:41:58.623204Z",
     "start_time": "2023-05-11T12:41:58.612014Z"
    }
   }
  },
  {
   "cell_type": "code",
   "execution_count": 104,
   "outputs": [
    {
     "data": {
      "text/plain": "                                         title  movie_id   \n0                                       Avatar     19995  \\\n1     Pirates of the Caribbean: At World's End       285   \n2                                      Spectre    206647   \n3                        The Dark Knight Rises     49026   \n4                                  John Carter     49529   \n...                                        ...       ...   \n1489                                    Clerks      2292   \n1490                                 Dry Spell    255266   \n1491                               Tin Can Man    157185   \n1492                                    Primer     14337   \n1493                          Shanghai Calling    126186   \n\n                                                   tags  \n0     In the 22nd century, a paraplegic Marine is di...  \n1     Captain Barbossa, long believed to be dead, ha...  \n2     A cryptic message from Bond’s past sends him o...  \n3     Following the death of District Attorney Harve...  \n4     John Carter is a war-weary, former military ca...  \n...                                                 ...  \n1489  Convenience and video store clerks Dante and R...  \n1490  Sasha tries to get her soon-to-be ex husband K...  \n1491  Recently dumped by his girlfirend for another ...  \n1492  Friends/fledgling entrepreneurs invent a devic...  \n1493  When ambitious New York attorney Sam is sent t...  \n\n[1494 rows x 3 columns]",
      "text/html": "<div>\n<style scoped>\n    .dataframe tbody tr th:only-of-type {\n        vertical-align: middle;\n    }\n\n    .dataframe tbody tr th {\n        vertical-align: top;\n    }\n\n    .dataframe thead th {\n        text-align: right;\n    }\n</style>\n<table border=\"1\" class=\"dataframe\">\n  <thead>\n    <tr style=\"text-align: right;\">\n      <th></th>\n      <th>title</th>\n      <th>movie_id</th>\n      <th>tags</th>\n    </tr>\n  </thead>\n  <tbody>\n    <tr>\n      <th>0</th>\n      <td>Avatar</td>\n      <td>19995</td>\n      <td>In the 22nd century, a paraplegic Marine is di...</td>\n    </tr>\n    <tr>\n      <th>1</th>\n      <td>Pirates of the Caribbean: At World's End</td>\n      <td>285</td>\n      <td>Captain Barbossa, long believed to be dead, ha...</td>\n    </tr>\n    <tr>\n      <th>2</th>\n      <td>Spectre</td>\n      <td>206647</td>\n      <td>A cryptic message from Bond’s past sends him o...</td>\n    </tr>\n    <tr>\n      <th>3</th>\n      <td>The Dark Knight Rises</td>\n      <td>49026</td>\n      <td>Following the death of District Attorney Harve...</td>\n    </tr>\n    <tr>\n      <th>4</th>\n      <td>John Carter</td>\n      <td>49529</td>\n      <td>John Carter is a war-weary, former military ca...</td>\n    </tr>\n    <tr>\n      <th>...</th>\n      <td>...</td>\n      <td>...</td>\n      <td>...</td>\n    </tr>\n    <tr>\n      <th>1489</th>\n      <td>Clerks</td>\n      <td>2292</td>\n      <td>Convenience and video store clerks Dante and R...</td>\n    </tr>\n    <tr>\n      <th>1490</th>\n      <td>Dry Spell</td>\n      <td>255266</td>\n      <td>Sasha tries to get her soon-to-be ex husband K...</td>\n    </tr>\n    <tr>\n      <th>1491</th>\n      <td>Tin Can Man</td>\n      <td>157185</td>\n      <td>Recently dumped by his girlfirend for another ...</td>\n    </tr>\n    <tr>\n      <th>1492</th>\n      <td>Primer</td>\n      <td>14337</td>\n      <td>Friends/fledgling entrepreneurs invent a devic...</td>\n    </tr>\n    <tr>\n      <th>1493</th>\n      <td>Shanghai Calling</td>\n      <td>126186</td>\n      <td>When ambitious New York attorney Sam is sent t...</td>\n    </tr>\n  </tbody>\n</table>\n<p>1494 rows × 3 columns</p>\n</div>"
     },
     "execution_count": 104,
     "metadata": {},
     "output_type": "execute_result"
    }
   ],
   "source": [
    "pickle.load(open('movie_list.pkl', 'rb'))"
   ],
   "metadata": {
    "collapsed": false,
    "ExecuteTime": {
     "end_time": "2023-05-11T12:41:59.837496Z",
     "start_time": "2023-05-11T12:41:59.820564Z"
    }
   }
  }
 ],
 "metadata": {
  "kernelspec": {
   "display_name": "Python 3",
   "language": "python",
   "name": "python3"
  },
  "language_info": {
   "codemirror_mode": {
    "name": "ipython",
    "version": 2
   },
   "file_extension": ".py",
   "mimetype": "text/x-python",
   "name": "python",
   "nbconvert_exporter": "python",
   "pygments_lexer": "ipython2",
   "version": "2.7.6"
  }
 },
 "nbformat": 4,
 "nbformat_minor": 0
}
